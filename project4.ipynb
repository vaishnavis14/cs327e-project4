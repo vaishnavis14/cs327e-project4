{
 "cells": [
  {
   "cell_type": "code",
   "execution_count": 1,
   "id": "ab6bc188-d982-409d-bf47-c388a33796d7",
   "metadata": {
    "tags": []
   },
   "outputs": [
    {
     "name": "stdout",
     "output_type": "stream",
     "text": [
      "env: BASE_DIR=/home/jupyter/prep\n"
     ]
    }
   ],
   "source": [
    "%env BASE_DIR=/home/jupyter/prep"
   ]
  },
  {
   "cell_type": "code",
   "execution_count": 2,
   "id": "8134b164-a6a7-4ba7-a3e3-5862426f154e",
   "metadata": {
    "tags": []
   },
   "outputs": [],
   "source": [
    "#!gsutil cp gs://cs327e-open-access-2/shopify.zip $BASE_DIR"
   ]
  },
  {
   "cell_type": "code",
   "execution_count": 3,
   "id": "20632466-f86c-4a5a-9a79-205b2da5ea4b",
   "metadata": {
    "tags": []
   },
   "outputs": [],
   "source": [
    "#!unzip ~/shopify.zip"
   ]
  },
  {
   "cell_type": "code",
   "execution_count": 4,
   "id": "e9496711-8f8f-4377-91cb-f80678ca3ff7",
   "metadata": {},
   "outputs": [
    {
     "name": "stdout",
     "output_type": "stream",
     "text": [
      "category ['64430ad2835be8ad60c59e7d44e4b0b1', 'Customer support'] has been loaded: TEST\n",
      "category ['737ad50051083aa051d127a53b3ac0da', 'Productivity'] has been loaded: TEST\n",
      "category ['30a930262efca129caafcd586bc7e6fe', 'Places to sell'] has been loaded: TEST\n",
      "category ['30ea2315e910c5e5335de42d5e87dca5', 'Orders and shipping'] has been loaded: TEST\n",
      "category ['c769c2bd15500dd906102d9be97fdceb', 'Marketing'] has been loaded: TEST\n",
      "category ['26a72de0d02e0e4e5f615332d61a878e', 'Finances'] has been loaded: TEST\n",
      "category ['5eb4e29e50e3f178acc614236ed107f4', 'Sales and conversion optimization'] has been loaded: TEST\n",
      "category ['e44cd5379a3166568741a07cc81ef6e5', 'Trust and security'] has been loaded: TEST\n",
      "category ['c576a841fd4f333a6f074d68e76a1d37', 'Reporting'] has been loaded: TEST\n",
      "category ['bd125b49ce6b0425d29e33cb8b49a496', 'Finding and adding products'] has been loaded: TEST\n",
      "category ['9fe78acd078fc030de72c896adc93a2d', 'Inventory management'] has been loaded: TEST\n",
      "category ['c3f9db73c29bc33607778f9935c3c4dc', 'Store design'] has been loaded: TEST\n"
     ]
    }
   ],
   "source": [
    "import pandas as pd\n",
    "from google.cloud import firestore\n",
    "\n",
    "db = firestore.Client()\n",
    "batch = db.batch()\n",
    "\n",
    "#Read three files- apps, connector apps categories, and categories\n",
    "\n",
    "df = pd.read_csv('shopify/apps.csv', sep=',', header=0, lineterminator='\\n')\n",
    "app = df.values.tolist()\n",
    "\n",
    "df = pd.read_csv('shopify/apps_categories.csv', sep=',', header=0, lineterminator='\\n')\n",
    "app_cat = df.values.tolist()\n",
    "\n",
    "df = pd.read_csv('shopify/categories.csv', sep=',', header=0, lineterminator='\\n')\n",
    "cat = df.values.tolist()\n",
    "\n",
    "offset=0\n",
    "count_apps = 0\n",
    "for c in cat: #scanning each part of the categories COLLECTION\n",
    "    ap_c = {}\n",
    "    ap_c['id'] = c[0]\n",
    "    ap_c['title'] = c[1]\n",
    "    cat_ref = db.collection('categories').document(c[0])\n",
    "    batch.set(cat_ref, ap_c)\n",
    "    \n",
    "    for ac in app_cat: #connector apps categories\n",
    "\n",
    "        if c[0] == ac[1]:\n",
    "            for a in app: #SCANNING APP SUBCOLLECTION\n",
    "                if a[0] == ac[0]:\n",
    "                    a_record = {}\n",
    "                    a_record['id '] = a[0]\n",
    "                    a_record['url'] = a[1]\n",
    "                    a_record['title'] = a[2]\n",
    "                    a_record['developer'] = a[3]\n",
    "                    a_record['developer_link'] = a[4]\n",
    "                    a_record['icon'] = a[5]\n",
    "                    a_record['rating'] = a[6]\n",
    "                    a_record['reviews_count'] = a[7]\n",
    "                    apps_ref = cat_ref.collection('apps').document(a[0])\n",
    "                    count_apps += 1 #count for apps subcollection\n",
    "                    batch.set(apps_ref, a_record)\n",
    "                #offset variable helps to commit in batches without server errors\n",
    "                offset += 1\n",
    "                if offset == 500:\n",
    "                    batch.commit()\n",
    "                    offset = 0\n",
    "    \n",
    "    batch.commit()\n",
    "    print(f\"category {c} has been loaded: TEST\") #TESTING the loading as initial"
   ]
  },
  {
   "cell_type": "code",
   "execution_count": 6,
   "id": "5556d101-4780-44e1-a448-1f112b7b69c4",
   "metadata": {},
   "outputs": [],
   "source": [
    "import pandas as pd\n",
    "from google.cloud import firestore\n",
    "db = firestore.Client()\n",
    "batch = db.batch()\n",
    "#All of the apps collection and subcollections read\n",
    "df = pd.read_csv('shopify/apps.csv', sep=',', header=0, lineterminator='\\n')\n",
    "app = df.values.tolist()\n",
    "\n",
    "df = pd.read_csv('shopify/reviews.csv', sep=',', header=0, lineterminator='\\n')\n",
    "review = df.values.tolist()\n",
    "\n",
    "df = pd.read_csv('shopify/pricing_plans.csv', sep=',', header=0, lineterminator='\\n')\n",
    "pricing_plan = df.values.tolist()\n",
    "\n",
    "df = pd.read_csv('shopify/pricing_plan_features.csv', sep=',', header=0, lineterminator='\\n')\n",
    "pricing_plan_feature = df.values.tolist()\n",
    "\n",
    "df = pd.read_csv('shopify/key_benefits.csv', sep=',', header=0, lineterminator='\\n')\n",
    "key_benefit = df.values.tolist()\n",
    "\n",
    "index=0\n",
    "index1=0\n",
    "count_pricing=0\n",
    "for a in app: #app collection is scanned in\n",
    "    ap = {}\n",
    "    ap['id'] = a[0]\n",
    "    ap['url'] = a[1]\n",
    "    ap['title'] = a[2]\n",
    "    ap['developer'] = a[3]\n",
    "    ap['developer_link'] = a[4]\n",
    "    ap['icon'] = a[5]\n",
    "    ap['rating'] = a[6]\n",
    "    ap['review_count'] = a[7]\n",
    "    app_ref = db.collection('apps').document(a[0])\n",
    "    batch.set(app_ref, ap)\n",
    "    for r in review: #review subcollection scanned in\n",
    "        if a[0] == r[0]:\n",
    "            rev = {}\n",
    "            rev['app_id'] = r[0]\n",
    "            rev['author'] = r[1]\n",
    "            rev['rating'] = r[2]\n",
    "            rev['posted_at'] = r[3]\n",
    "            review_ref = app_ref.collection('reviews').document(r[0]+str(index))\n",
    "            batch.set(review_ref, rev)\n",
    "            index+=1\n",
    "    \n",
    "    for p in pricing_plan:#pricing plan subcollection scanned in\n",
    "        if a[0] == p[1]:\n",
    "            pri = {}\n",
    "            pri['id'] = p[0]\n",
    "            pri['app_id'] = p[1]\n",
    "            pri['title'] = p[2]\n",
    "            pri['price'] = p[3]\n",
    "            pricing_plan_ref = app_ref.collection('pricing_plans').document(p[0])\n",
    "            batch.set(pricing_plan_ref, pri)\n",
    "            \n",
    "            for f in pricing_plan_feature:\n",
    "                if p[0] == f[0]:\n",
    "                    ft = {}\n",
    "                    ft['feature'] = f[2]\n",
    "                    features_ref = pricing_plan_ref.collection('pricing_plan_features').document(f[0])#PRICING PLAN HAS SUBCOLLECTION PRICING PLAN FEATURES SCANNED IN\n",
    "                    count_pricing += 1 #COUNT VARIABLE FOR pricing plan features\n",
    "                    batch.set(features_ref, ft)                \n",
    "    for k in key_benefit: #key benefits subcollection scanned in\n",
    "        if a[0] == k[0]:\n",
    "            key = {}\n",
    "            key['app_id'] = k[0]\n",
    "            key['title'] = k[1]\n",
    "            key['description'] = k[2]\n",
    "            key_benefit_ref = app_ref.collection('key_benefits').document(k[0]+str(index1))\n",
    "            batch.set(key_benefit_ref, key)\n",
    "            index1+=1\n",
    "\n",
    "    batch.commit()"
   ]
  },
  {
   "cell_type": "code",
   "execution_count": 7,
   "id": "7348f9f4-8a46-49d6-ba41-9d9252241999",
   "metadata": {
    "tags": []
   },
   "outputs": [
    {
     "name": "stdout",
     "output_type": "stream",
     "text": [
      "Count of Apps in the collection: 3547\n"
     ]
    }
   ],
   "source": [
    "from google.cloud import firestore\n",
    "from google.cloud.firestore_v1.base_query import FieldFilter\n",
    "from google.cloud.firestore_v1 import aggregation\n",
    "#reading documents on each one\n",
    "db = firestore.Client()\n",
    "query = db.collection('apps').where(filter=FieldFilter('id', '!=', '')) \n",
    "results = aggregation.AggregationQuery(query).count().get()\n",
    "    \n",
    "for result in results:\n",
    "    print(f\"Count of Apps in the collection: {result[0].value}\")"
   ]
  },
  {
   "cell_type": "code",
   "execution_count": 8,
   "id": "46531027-d4c0-414a-b28f-51bc589bca24",
   "metadata": {
    "tags": []
   },
   "outputs": [
    {
     "name": "stdout",
     "output_type": "stream",
     "text": [
      "Count of documents in Reviews:124601.0\n"
     ]
    }
   ],
   "source": [
    "count = 0\n",
    "apps_collection = db.collection('apps')\n",
    "for i in apps_collection.stream():\n",
    "    general = apps_collection.document(i.id)\n",
    "    query = general.collection('reviews').where(filter=FieldFilter('app_id', '!=', '')) \n",
    "    results = aggregation.AggregationQuery(query).count().get()\n",
    "    for result in results:\n",
    "        count += result[0].value\n",
    "print(f\"Count of documents in Reviews:{count}\")"
   ]
  },
  {
   "cell_type": "code",
   "execution_count": 9,
   "id": "8661568e-0bb2-48fc-b3ed-59b17050e94c",
   "metadata": {},
   "outputs": [
    {
     "name": "stdout",
     "output_type": "stream",
     "text": [
      "Count of documents in Key Benefits:9541.0\n",
      "Count of documents in Pricing Plans:6275\n"
     ]
    }
   ],
   "source": [
    "count = 0 \n",
    "for i in apps_collection.stream():\n",
    "    general = apps_collection.document(i.id)\n",
    "    query = general.collection('key_benefits').where(filter=FieldFilter('app_id', '!=', '')) \n",
    "    results = aggregation.AggregationQuery(query).count().get()\n",
    "    for result in results:\n",
    "        count += result[0].value\n",
    "print(f\"Count of documents in Key Benefits:{count}\")\n",
    "\n",
    "count = 0 \n",
    "for i in apps_collection.stream():\n",
    "    general = apps_collection.document(i.id)\n",
    "    query = general.collection('pricing_plans').where(filter=FieldFilter('id', '!=', '')) \n",
    "    results = aggregation.AggregationQuery(query).count().get()\n",
    "    for result in results:\n",
    "        count += result[0].value\n",
    "print(f\"Count of documents in Pricing Plans:{count}\")"
   ]
  },
  {
   "cell_type": "code",
   "execution_count": 10,
   "id": "2ed52543-7491-43ff-8e18-bb38bcee3475",
   "metadata": {
    "tags": []
   },
   "outputs": [
    {
     "name": "stdout",
     "output_type": "stream",
     "text": [
      "Count of documents in Pricing Plan Features:16270\n"
     ]
    }
   ],
   "source": [
    "print(f\"Count of documents in Pricing Plan Features:{count_pricing}\")"
   ]
  },
  {
   "cell_type": "code",
   "execution_count": 11,
   "id": "3e0c0ef6-c422-4b16-bde5-3f3accd9349f",
   "metadata": {
    "tags": []
   },
   "outputs": [
    {
     "name": "stdout",
     "output_type": "stream",
     "text": [
      "Category Counts in Categories collection: 12\n"
     ]
    }
   ],
   "source": [
    "from google.cloud import firestore\n",
    "from google.cloud.firestore_v1.base_query import FieldFilter\n",
    "from google.cloud.firestore_v1 import aggregation\n",
    "\n",
    "db = firestore.Client()\n",
    "query = db.collection('categories').where(filter=FieldFilter('id', '!=', '')) \n",
    "results = aggregation.AggregationQuery(query).count().get() \n",
    "for result in results:\n",
    "    print(f\"Category Counts in Categories collection: {result[0].value}\")"
   ]
  },
  {
   "cell_type": "code",
   "execution_count": 12,
   "id": "097c1b9a-a1bd-4873-a08a-c25223337d87",
   "metadata": {
    "tags": []
   },
   "outputs": [
    {
     "name": "stdout",
     "output_type": "stream",
     "text": [
      "Count of documents in Apps Subcollection: 5383\n"
     ]
    }
   ],
   "source": [
    "print(f\"Count of documents in Apps Subcollection: {count_apps}\")"
   ]
  },
  {
   "cell_type": "markdown",
   "id": "8d10b2be-84bd-4a5d-8872-8619e3ef7f26",
   "metadata": {},
   "source": [
    "Query 1 for Top 10 Apps in Productivity"
   ]
  },
  {
   "cell_type": "code",
   "execution_count": 13,
   "id": "0fb69471-8af4-4ad4-9024-8c4152d25772",
   "metadata": {
    "tags": []
   },
   "outputs": [],
   "source": [
    "from google.cloud import firestore\n",
    "from google.cloud.firestore_v1.base_query import FieldFilter"
   ]
  },
  {
   "cell_type": "code",
   "execution_count": 14,
   "id": "273d8806-994d-462d-bf53-60147ce898e9",
   "metadata": {
    "tags": []
   },
   "outputs": [
    {
     "name": "stdout",
     "output_type": "stream",
     "text": [
      "App ID: fe5ae45c-379c-42bf-be7d-b5f6e15fc13c\n",
      "Title: Customer Tags\n",
      "Developer: Union Works Apps\n",
      "Rating: 5.0\n",
      "Reviews Count: 21\n",
      "\n",
      "App ID: f99bb1e3-f326-4f10-8901-491652e9809b\n",
      "Title: Order Tagger\n",
      "Developer: Union Works Apps\n",
      "Rating: 5.0\n",
      "Reviews Count: 68\n",
      "\n",
      "App ID: f864e3bd-da0e-41dc-be65-984325331475\n",
      "Title: SilkRoad ‑ Facebook Auto Ads\n",
      "Developer: SilkRoad\n",
      "Rating: 5.0\n",
      "Reviews Count: 2\n",
      "\n",
      "App ID: f5344e64-9cda-4d97-b198-2aaeb5170518\n",
      "Title: Xporter Data Export Tool\n",
      "Developer: Modd Apps Inc.\n",
      "Rating: 5.0\n",
      "Reviews Count: 223\n",
      "\n",
      "App ID: ed77a32d-0fa3-458b-b639-e01ea7b78ec0\n",
      "Title: FraudBlock Fraud Prevention\n",
      "Developer: ShopFox\n",
      "Rating: 5.0\n",
      "Reviews Count: 6\n",
      "\n",
      "App ID: e0e231d6-4988-4a8c-ad84-cf18d0f38738\n",
      "Title: Automation Fox\n",
      "Developer: Automation Fox\n",
      "Rating: 5.0\n",
      "Reviews Count: 1\n",
      "\n",
      "App ID: d75fa395-3a4d-41c3-88d1-2f802c1e2411\n",
      "Title: AirPower\n",
      "Developer: BaseGenius\n",
      "Rating: 5.0\n",
      "Reviews Count: 1\n",
      "\n",
      "App ID: d0be03ff-f74d-4fb5-8d2c-79541a1aea1b\n",
      "Title: Excelify\n",
      "Developer: Excelify.io\n",
      "Rating: 5.0\n",
      "Reviews Count: 178\n",
      "\n",
      "App ID: c9a86f8c-817e-4bb5-bbdd-e0e669bd7816\n",
      "Title: UPC Code Manager\n",
      "Developer: Ventures & Adventures\n",
      "Rating: 5.0\n",
      "Reviews Count: 1\n",
      "\n",
      "App ID: c7578030-19fd-42e1-a5a5-03c7861220aa\n",
      "Title: EzySlips ‑ Shipping Automation\n",
      "Developer: Onjection Labs\n",
      "Rating: 5.0\n",
      "Reviews Count: 219\n",
      "\n"
     ]
    }
   ],
   "source": [
    "db = firestore.Client()\n",
    "query = db.collection('categories').where(filter=FieldFilter('title', '==', 'Productivity')).stream()\n",
    "for result in query:\n",
    "    query2 = db.collection('categories').document(result.id).collection('apps').order_by(\"rating\", direction=firestore.Query.DESCENDING).limit(10).stream()\n",
    "    for result in query2:\n",
    "        master = result.to_dict()\n",
    "        print(f'''App ID: {result.id}\n",
    "Title: {master[\"title\"]}\n",
    "Developer: {master[\"developer\"]}\n",
    "Rating: {master[\"rating\"]}\n",
    "Reviews Count: {master[\"reviews_count\"]}''')\n",
    "        print()"
   ]
  },
  {
   "cell_type": "markdown",
   "id": "87590297-69fb-4ad9-a783-88e3255348c1",
   "metadata": {},
   "source": [
    "Query 2 for Top 10 Apps Review Count "
   ]
  },
  {
   "cell_type": "code",
   "execution_count": 15,
   "id": "07684729-2616-40e8-a3d7-e88a25fb452f",
   "metadata": {
    "tags": []
   },
   "outputs": [],
   "source": [
    "from google.cloud import firestore\n",
    "from google.cloud.firestore_v1.base_query import FieldFilter"
   ]
  },
  {
   "cell_type": "code",
   "execution_count": 16,
   "id": "499fa66d-f2e3-422f-afe9-e6ac6bb62bd9",
   "metadata": {
    "tags": []
   },
   "outputs": [
    {
     "name": "stdout",
     "output_type": "stream",
     "text": [
      "App ID: d9f142ee-b141-4dc4-9353-173db61d2eb0\n",
      "Title: Privy ‑ Exit Pop Ups & Email\n",
      "Developer: Privy\n",
      "Rating: 4.7\n",
      "Reviews Count: 23078\n",
      "\n",
      "App ID: 78ea0810-c008-4a4e-a82f-de0c790e3286\n",
      "Title: Free Shipping Bar\n",
      "Developer: Hextom\n",
      "Rating: 4.9\n",
      "Reviews Count: 8737\n",
      "\n",
      "App ID: b88488b0-9912-44d3-b736-224c36f09d95\n",
      "Title: Sales Pop ‑ Popup Notification\n",
      "Developer: CartKit\n",
      "Rating: 4.8\n",
      "Reviews Count: 6905\n",
      "\n",
      "App ID: e528a60e-94f8-4e92-80e2-5bc6013b8283\n",
      "Title: BEST Currency Converter\n",
      "Developer: Grizzly Apps\n",
      "Rating: 4.8\n",
      "Reviews Count: 5986\n",
      "\n",
      "App ID: be2640c4-01b5-4d52-9f68-cae8c0734d0d\n",
      "Title: Recart FB Messenger Marketing\n",
      "Developer: Recart\n",
      "Rating: 4.8\n",
      "Reviews Count: 5596\n",
      "\n",
      "App ID: 70bff9e0-4316-4cc6-84ce-92fcd1bc6925\n",
      "Title: EU Cookie Bar ‑ Cookie GDPR\n",
      "Developer: Booster Apps\n",
      "Rating: 4.7\n",
      "Reviews Count: 5259\n",
      "\n",
      "App ID: 171816e2-27d4-4552-a65e-ab44a312fe04\n",
      "Title: Sales Pop Master ‑ Countdown\n",
      "Developer: Autoketing\n",
      "Rating: 4.8\n",
      "Reviews Count: 4931\n",
      "\n",
      "App ID: 9025eff0-d714-4df1-930f-43f5582979ad\n",
      "Title: Ultimate Sales Boost\n",
      "Developer: Hextom\n",
      "Rating: 4.8\n",
      "Reviews Count: 4847\n",
      "\n",
      "App ID: 404183ac-6d52-4960-85d2-8350f37c2f0b\n",
      "Title: Ads by Varinode\n",
      "Developer: Varinode, Inc.\n",
      "Rating: 4.9\n",
      "Reviews Count: 4245\n",
      "\n",
      "App ID: 0380c5ed-7b91-4d4b-9a4e-f6a1c50269dd\n",
      "Title: Quick Announcement Bar\n",
      "Developer: Hextom\n",
      "Rating: 4.9\n",
      "Reviews Count: 4237\n",
      "\n"
     ]
    }
   ],
   "source": [
    "db = firestore.Client()\n",
    "query = db.collection('apps').order_by('review_count', direction=firestore.Query.DESCENDING).limit(10).stream()\n",
    "for res in query:\n",
    "        master = res.to_dict()\n",
    "        print(f'''App ID: {res.id}\n",
    "Title: {master[\"title\"]}\n",
    "Developer: {master[\"developer\"]}\n",
    "Rating: {master[\"rating\"]}\n",
    "Reviews Count: {master[\"review_count\"]}''')\n",
    "        print()\n",
    "    "
   ]
  },
  {
   "cell_type": "code",
   "execution_count": null,
   "id": "69d2a4e3-6668-463a-a4ef-fc8b4fe1e392",
   "metadata": {},
   "outputs": [],
   "source": []
  }
 ],
 "metadata": {
  "environment": {
   "kernel": "conda-root-py",
   "name": "workbench-notebooks.m115",
   "type": "gcloud",
   "uri": "gcr.io/deeplearning-platform-release/workbench-notebooks:m115"
  },
  "kernelspec": {
   "display_name": "Python 3 (ipykernel) (Local)",
   "language": "python",
   "name": "conda-root-py"
  },
  "language_info": {
   "codemirror_mode": {
    "name": "ipython",
    "version": 3
   },
   "file_extension": ".py",
   "mimetype": "text/x-python",
   "name": "python",
   "nbconvert_exporter": "python",
   "pygments_lexer": "ipython3",
   "version": "3.10.13"
  }
 },
 "nbformat": 4,
 "nbformat_minor": 5
}
